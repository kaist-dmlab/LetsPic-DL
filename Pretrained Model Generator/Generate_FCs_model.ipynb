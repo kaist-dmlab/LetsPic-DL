{
 "cells": [
  {
   "cell_type": "code",
   "execution_count": 1,
   "metadata": {
    "collapsed": true
   },
   "outputs": [],
   "source": [
    "import numpy as np\n",
    "w_init = np.load('./w_1.npy')\n",
    "b_init = np.load('./b_1.npy')\n",
    "import tensorflow as tf\n",
    "\n",
    "with tf.Session() as sess:\n",
    "    # placeholder\n",
    "    x = tf.placeholder(tf.float32, shape=[None, 1024], name=\"x\")\n",
    "    y = tf.placeholder(tf.float32, [None, 100], name=\"y\")\n",
    "    w_1 = tf.placeholder(tf.float32, [1024,1000], name=\"weights_in_1\")\n",
    "    w_2 = tf.placeholder(tf.float32, [1000,800], name=\"weights_in_2\")\n",
    "    w_3 = tf.placeholder(tf.float32, [800,100], name=\"weights_in_3\")\n",
    "    b_1 = tf.placeholder(tf.float32, [1000], name=\"bias_in_1\")\n",
    "    b_2 = tf.placeholder(tf.float32, [800], name=\"bias_in_2\")\n",
    "    b_3 = tf.placeholder(tf.float32, [100], name=\"bias_in_3\")\n",
    "    \n",
    "    \n",
    "    # 1st FC\n",
    "    W_1 = tf.Variable(w_1, name=\"weights_1\")\n",
    "    tf.assign(W_1, w_init, name = \"init_w_1\")\n",
    "    B_1 = tf.Variable(b_1, name=\"bias_1\")\n",
    "    tf.assign(B_1, b_init, name=\"init_b_1\")\n",
    "    out_1 = tf.matmul(x, W_1) + B_1\n",
    "    #out_1 = tf.nn.relu(out_1)\n",
    "    \n",
    "    \n",
    "    # 2nd FC\n",
    "    W_2 = tf.Variable(w_2, name=\"weights_2\")\n",
    "    B_2 = tf.Variable(b_2, name=\"bias_2\")\n",
    "    out_2 = tf.add(tf.matmul(out_1, W_2), B_2, name=\"features\")\n",
    "    #out_2 = tf.nn.relu(out_2)\n",
    "    \n",
    "    # 3rd FC\n",
    "    W_3 = tf.Variable(w_3, name=\"weights_3\")\n",
    "    B_3 = tf.Variable(b_3, name=\"bias_3\")\n",
    "    y_out = tf.add(tf.matmul(out_2, W_3), B_3)\n",
    "    \n",
    "\n",
    "    #cross_entropy = tf.reduce_mean(-tf.reduce_sum(y * tf.log(y_out), reduction_indices=[1]))\n",
    "    cross_entropy = tf.reduce_mean(tf.nn.softmax_cross_entropy_with_logits(labels=y, logits=y_out))\n",
    "    train_step = tf.train.GradientDescentOptimizer(0.001).minimize(cross_entropy, name=\"train\")\n",
    "\n",
    "    correct_prediction = tf.equal(tf.argmax(y_out,1), tf.argmax(y,1))\n",
    "    accuracy = tf.reduce_mean(tf.cast(correct_prediction, tf.float32), name=\"test\")\n",
    "\n",
    "    init = tf.variables_initializer(tf.global_variables(), name=\"init\")\n",
    "\n",
    "    tf.train.write_graph(sess.graph_def,\n",
    "                         './',\n",
    "                         'mobilenet_FC_cifar100_D800.pb', as_text=False)"
   ]
  },
  {
   "cell_type": "code",
   "execution_count": null,
   "metadata": {
    "collapsed": true
   },
   "outputs": [],
   "source": []
  }
 ],
 "metadata": {
  "kernelspec": {
   "display_name": "Python 3",
   "language": "python",
   "name": "python3"
  },
  "language_info": {
   "codemirror_mode": {
    "name": "ipython",
    "version": 3
   },
   "file_extension": ".py",
   "mimetype": "text/x-python",
   "name": "python",
   "nbconvert_exporter": "python",
   "pygments_lexer": "ipython3",
   "version": "3.5.3"
  }
 },
 "nbformat": 4,
 "nbformat_minor": 2
}
